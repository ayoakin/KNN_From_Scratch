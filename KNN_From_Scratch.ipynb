{
  "nbformat": 4,
  "nbformat_minor": 0,
  "metadata": {
    "colab": {
      "provenance": []
    },
    "kernelspec": {
      "name": "python3",
      "display_name": "Python 3"
    },
    "language_info": {
      "name": "python"
    }
  },
  "cells": [
    {
      "cell_type": "markdown",
      "source": [
        "# KNN Model Implementation"
      ],
      "metadata": {
        "id": "4XtVA-PZZF4A"
      }
    },
    {
      "cell_type": "code",
      "execution_count": null,
      "metadata": {
        "id": "Rysp_35kQCIy"
      },
      "outputs": [],
      "source": [
        "import numpy as np\n",
        "\n",
        "class KNN:\n",
        "    def __init__(self, k=5, task='classification'):\n",
        "        self.k = k\n",
        "        self.task = task\n",
        "\n",
        "    def fit(self, X_train, y_train): #training function\n",
        "        self.X_train = X_train\n",
        "        self.y_train = y_train\n",
        "\n",
        "    def euclidean_distance(self, x1, x2):\n",
        "        return np.sqrt(np.sum((x1 - x2) ** 2))\n",
        "\n",
        "    def predict(self, X_test): #predict function\n",
        "        predictions = [self.calculate_prediction(x) for x in X_test]\n",
        "        return np.array(predictions)\n",
        "\n",
        "    def calculate_prediction(self, x):\n",
        "        # Compute distances between x and all examples in the training set\n",
        "        distances = [self.euclidean_distance(x, x_train) for x_train in self.X_train]\n",
        "        # Sort by distance and return indices of the first k neighbors\n",
        "        k_indices = np.argsort(distances)[:self.k]\n",
        "        # Extract the labels of the k nearest neighbor training samples\n",
        "        k_nearest_labels = [self.y_train[i] for i in k_indices]\n",
        "\n",
        "        if self.task == 'classification':\n",
        "           # Return the most common class label\n",
        "            unique, counts = np.unique(k_nearest_labels, return_counts=True)\n",
        "            return unique[np.argmax(counts)]\n",
        "\n",
        "        elif self.task == 'regression':\n",
        "            # Return the mean of the k nearest labels\n",
        "            return np.mean(k_nearest_labels)\n",
        "\n",
        "        else:\n",
        "            raise ValueError(\"Task must be either 'classification' or 'regression'\")"
      ]
    },
    {
      "cell_type": "markdown",
      "source": [
        "#Import Data for Classification - Wine Dataset"
      ],
      "metadata": {
        "id": "gEKyh1rOWoG-"
      }
    },
    {
      "cell_type": "code",
      "source": [
        "import pandas as pd\n",
        "from sklearn.model_selection import train_test_split\n",
        "\n",
        "# URL to the Wine dataset in CSV format\n",
        "url = \"https://archive.ics.uci.edu/ml/machine-learning-databases/wine/wine.data\"\n",
        "\n",
        "# Column names as per the dataset description\n",
        "columns = [\n",
        "    'Alcohol', 'Malic_Acid', 'Ash', 'Alcalinity_of_Ash', 'Magnesium',\n",
        "    'Total_phenols', 'Flavanoids', 'Nonflavanoid_phenols', 'Proanthocyanins',\n",
        "    'Color_intensity', 'Hue', 'OD280/OD315_of_diluted_wines', 'Proline'\n",
        "]\n",
        "\n",
        "# Load the dataset into a pandas DataFrame\n",
        "df = pd.read_csv(url, header=None, names=['Class'] + columns)\n",
        "\n",
        "# Separate features and labels\n",
        "X = df[columns].values\n",
        "y = df['Class'].values\n",
        "\n",
        "# Split the dataset into training and testing sets\n",
        "X_train, X_test, y_train, y_test = train_test_split(X, y, test_size=0.2, random_state=42)\n",
        "\n",
        "print(\"Training features shape:\", X_train.shape)\n",
        "print(\"Training labels shape:\", y_train.shape)\n",
        "print(\"Testing features shape:\", X_test.shape)\n",
        "print(\"Testing labels shape:\", y_test.shape)\n"
      ],
      "metadata": {
        "colab": {
          "base_uri": "https://localhost:8080/"
        },
        "id": "dJjfHxfrWm4B",
        "outputId": "4b709780-548f-42fc-e5b9-281f34f2c9a3"
      },
      "execution_count": null,
      "outputs": [
        {
          "output_type": "stream",
          "name": "stdout",
          "text": [
            "Training features shape: (142, 13)\n",
            "Training labels shape: (142,)\n",
            "Testing features shape: (36, 13)\n",
            "Testing labels shape: (36,)\n"
          ]
        }
      ]
    },
    {
      "cell_type": "markdown",
      "source": [
        "#Test Model Implementation - Classification"
      ],
      "metadata": {
        "id": "XwKCQiIRWsR8"
      }
    },
    {
      "cell_type": "code",
      "source": [
        "knn = KNN(k=3, task='classification')\n",
        "knn.fit(X_train, y_train)\n",
        "y_pred = knn.predict(X_test)\n",
        "\n"
      ],
      "metadata": {
        "id": "shJ6GZA6TyAK"
      },
      "execution_count": null,
      "outputs": []
    },
    {
      "cell_type": "code",
      "source": [
        "# Calculate accuracy\n",
        "\n",
        "from sklearn.metrics import accuracy_score\n",
        "accuracy_custom = accuracy_score(y_test, y_pred)\n",
        "print(\"Custom Accuracy:\", accuracy_custom)"
      ],
      "metadata": {
        "colab": {
          "base_uri": "https://localhost:8080/"
        },
        "id": "6Mts2fgeXW8E",
        "outputId": "20e1a8e8-0736-49c0-a57f-8b699114af7f"
      },
      "execution_count": null,
      "outputs": [
        {
          "output_type": "stream",
          "name": "stdout",
          "text": [
            "Custom Accuracy: 0.8055555555555556\n"
          ]
        }
      ]
    },
    {
      "cell_type": "markdown",
      "source": [
        "#Sklearn Implementation - Classification"
      ],
      "metadata": {
        "id": "QhpZD0B3ZQMN"
      }
    },
    {
      "cell_type": "code",
      "source": [
        "# Create and train the KNN model\n",
        "from sklearn.neighbors import KNeighborsClassifier\n",
        "knn = KNeighborsClassifier(n_neighbors=5)\n",
        "knn.fit(X_train, y_train)\n",
        "\n",
        "# Make predictions on the test set\n",
        "y_pred = knn.predict(X_test)\n",
        "\n",
        "# Calculate accuracy\n",
        "accuracy_sklearn = accuracy_score(y_test, y_pred)\n",
        "print(\"Sklearn Accuracy:\", accuracy_sklearn)"
      ],
      "metadata": {
        "colab": {
          "base_uri": "https://localhost:8080/"
        },
        "id": "jGQX3x5mXCLF",
        "outputId": "2870f5c3-2c4d-4f61-e547-302958e7ac88"
      },
      "execution_count": null,
      "outputs": [
        {
          "output_type": "stream",
          "name": "stdout",
          "text": [
            "Sklearn Accuracy: 0.7222222222222222\n"
          ]
        }
      ]
    },
    {
      "cell_type": "markdown",
      "source": [
        "# Compare Custom and Sklearn - Classification"
      ],
      "metadata": {
        "id": "zNjosillZVr1"
      }
    },
    {
      "cell_type": "code",
      "source": [
        "import matplotlib.pyplot as plt\n",
        "\n",
        "# Visualize the accuracy scores\n",
        "labels = ['Custom KNN', 'Sklearn KNN']\n",
        "accuracies = [accuracy_custom, accuracy_sklearn]\n",
        "\n",
        "plt.figure(figsize=(8, 6))\n",
        "plt.bar(labels, accuracies, color=['blue', 'green'])\n",
        "plt.xlabel('Model')\n",
        "plt.ylabel('Accuracy')\n",
        "plt.title('Comparison of KNN Model Accuracies')\n",
        "plt.ylim(0, 1)\n",
        "for i, v in enumerate(accuracies):\n",
        "    plt.text(i, v + 0.02, f\"{v:.2f}\", ha='center', va='bottom')\n",
        "plt.show()"
      ],
      "metadata": {
        "colab": {
          "base_uri": "https://localhost:8080/",
          "height": 564
        },
        "id": "vZYvVbs6YPtY",
        "outputId": "a4fafcd6-04f3-4b16-b55b-7c87064d33bd"
      },
      "execution_count": null,
      "outputs": [
        {
          "output_type": "display_data",
          "data": {
            "text/plain": [
              "<Figure size 800x600 with 1 Axes>"
            ],
            "image/png": "[encoded data removed]"
          },
          "metadata": {}
        }
      ]
    },
    {
      "cell_type": "markdown",
      "source": [
        "#Import Data for Regression - Auto MPG dataset"
      ],
      "metadata": {
        "id": "YeO3auIcb8h-"
      }
    },
    {
      "cell_type": "code",
      "source": [
        "# Load the Auto MPG dataset\n",
        "url = \"https://archive.ics.uci.edu/ml/machine-learning-databases/auto-mpg/auto-mpg.data\"\n",
        "columns = ['mpg', 'cylinders', 'displacement', 'horsepower', 'weight', 'acceleration', 'model year', 'origin', 'car name']\n",
        "df = pd.read_csv(url, names=columns, delim_whitespace=True, na_values='?', comment='\\t')\n",
        "\n",
        "# Drop rows with missing values\n",
        "df.dropna(inplace=True)\n",
        "\n",
        "# Separate features and labels\n",
        "X = df.drop(columns=['mpg', 'car name']).values\n",
        "y = df['mpg'].values\n",
        "\n",
        "# Split the dataset into training and testing sets\n",
        "X_train, X_test, y_train, y_test = train_test_split(X, y, test_size=0.2, random_state=42)"
      ],
      "metadata": {
        "id": "zXRIFCTRb4FH"
      },
      "execution_count": null,
      "outputs": []
    },
    {
      "cell_type": "markdown",
      "source": [
        "#Test Model Implementation - Regression"
      ],
      "metadata": {
        "id": "N2uY0rcLamwI"
      }
    },
    {
      "cell_type": "code",
      "source": [
        "# Create and train the custom KNN model\n",
        "custom_knn = KNN(k=5, task='regression')\n",
        "custom_knn.fit(X_train, y_train)\n",
        "\n",
        "\n",
        "from sklearn.metrics import mean_squared_error\n",
        "\n",
        "# Make predictions and calculate MSE for the custom KNN model\n",
        "y_pred_custom = custom_knn.predict(X_test)\n",
        "mse_custom = mean_squared_error(y_test, y_pred_custom)"
      ],
      "metadata": {
        "id": "KcG8132YasEe"
      },
      "execution_count": null,
      "outputs": []
    },
    {
      "cell_type": "markdown",
      "source": [
        "#Sklearn Implementation - Regression"
      ],
      "metadata": {
        "id": "tvw3fi55auFK"
      }
    },
    {
      "cell_type": "code",
      "source": [
        "from sklearn.neighbors import KNeighborsRegressor\n",
        "\n",
        "# Create and train the sklearn KNN model\n",
        "sklearn_knn = KNeighborsRegressor(n_neighbors=5)\n",
        "sklearn_knn.fit(X_train, y_train)\n",
        "\n",
        "# Make predictions and calculate MSE for the sklearn KNN model\n",
        "y_pred_sklearn = sklearn_knn.predict(X_test)\n",
        "mse_sklearn = mean_squared_error(y_test, y_pred_sklearn)\n"
      ],
      "metadata": {
        "id": "Frrx6swmatta"
      },
      "execution_count": null,
      "outputs": []
    },
    {
      "cell_type": "markdown",
      "source": [
        "#Compare Custom and Sklearn - Regression"
      ],
      "metadata": {
        "id": "lmSZiplxa7C2"
      }
    },
    {
      "cell_type": "code",
      "source": [
        "# Visualize the results\n",
        "labels = ['Custom KNN', 'Sklearn KNN']\n",
        "mse_values = [mse_custom, mse_sklearn]\n",
        "\n",
        "plt.figure(figsize=(8, 6))\n",
        "plt.bar(labels, mse_values, color=['yellow', 'purple'])\n",
        "plt.xlabel('Model')\n",
        "plt.ylabel('Mean Squared Error (MSE)')\n",
        "plt.title('Comparison of KNN Model Mean Squared Errors')\n",
        "for i, v in enumerate(mse_values):\n",
        "    plt.text(i, v + 0.5, f\"{v:.2f}\", ha='center', va='bottom')\n",
        "plt.show()\n",
        "\n",
        "print(\"Custom KNN MSE:\", mse_custom)\n",
        "print(\"Sklearn KNN MSE:\", mse_sklearn)"
      ],
      "metadata": {
        "colab": {
          "base_uri": "https://localhost:8080/",
          "height": 599
        },
        "id": "y8Ih1aCSbB3V",
        "outputId": "3e09bcac-5f78-4961-8ad7-8247477f9433"
      },
      "execution_count": null,
      "outputs": [
        {
          "output_type": "display_data",
          "data": {
            "text/plain": [
              "<Figure size 800x600 with 1 Axes>"
            ],
            "image/png": "[encoded data removed]"
          },
          "metadata": {}
        },
        {
          "output_type": "stream",
          "name": "stdout",
          "text": [
            "Custom KNN MSE: 17.752617721518984\n",
            "Sklearn KNN MSE: 17.752617721518984\n"
          ]
        }
      ]
    }
  ]
}